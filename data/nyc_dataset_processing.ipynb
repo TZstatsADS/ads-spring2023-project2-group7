{
 "cells": [
  {
   "cell_type": "code",
   "execution_count": 1,
   "id": "d8d845cd",
   "metadata": {
    "ExecuteTime": {
     "end_time": "2023-02-18T18:58:20.954333Z",
     "start_time": "2023-02-18T18:58:19.787051Z"
    }
   },
   "outputs": [],
   "source": [
    "import requests\n",
    "import pandas as pd\n",
    "from sodapy import Socrata"
   ]
  },
  {
   "cell_type": "code",
   "execution_count": 30,
   "id": "0876d44f",
   "metadata": {
    "ExecuteTime": {
     "end_time": "2023-02-18T19:11:53.136661Z",
     "start_time": "2023-02-18T19:11:51.909386Z"
    }
   },
   "outputs": [],
   "source": [
    "# Unauthenticated client only works with public data sets. Note 'None'\n",
    "# in place of application token, and no username or password:\n",
    "# client = Socrata(\"data.cityofnewyork.us\", None)\n",
    "\n",
    "MyAppToken = \n",
    "username = \n",
    "password = \n",
    "\n",
    "# Example authenticated client (needed for non-public datasets):\n",
    "client = Socrata(\"data.cityofnewyork.us\",\n",
    "                 MyAppToken,\n",
    "                 username,\n",
    "                 password)\n",
    "\n",
    "# First 2000 results, returned as JSON from API / converted to Python list of\n",
    "# dictionaries by sodapy.\n",
    "results = client.get(\"qgea-i56i\", \n",
    "                     select = \"CMPLNT_FR_DT, OFNS_DESC, LAW_CAT_CD, BORO_NM, \\\n",
    "                     SUSP_AGE_GROUP, SUSP_RACE, SUSP_SEX, \\\n",
    "                     Lat_Lon, \\\n",
    "                     VIC_AGE_GROUP, VIC_RACE, VIC_SEX\",\n",
    "                     where = \"CMPLNT_FR_DT BETWEEN '2021-12-02T00:00:00.000' and '2022-08-30T00:00:00.000'\",\n",
    "                     limit = 1000)\n",
    "\n",
    "# Convert to pandas DataFrame\n",
    "results_df = pd.DataFrame.from_records(results)"
   ]
  },
  {
   "cell_type": "code",
   "execution_count": 31,
   "id": "a3171f5a",
   "metadata": {
    "ExecuteTime": {
     "end_time": "2023-02-18T19:11:53.946466Z",
     "start_time": "2023-02-18T19:11:53.932902Z"
    }
   },
   "outputs": [
    {
     "data": {
      "text/plain": [
       "array(['2021-12-02T00:00:00.000', '2021-12-03T00:00:00.000',\n",
       "       '2021-12-04T00:00:00.000', '2021-12-05T00:00:00.000',\n",
       "       '2021-12-06T00:00:00.000', '2021-12-07T00:00:00.000',\n",
       "       '2021-12-08T00:00:00.000', '2021-12-09T00:00:00.000',\n",
       "       '2021-12-10T00:00:00.000', '2021-12-11T00:00:00.000',\n",
       "       '2021-12-12T00:00:00.000', '2021-12-13T00:00:00.000',\n",
       "       '2021-12-14T00:00:00.000', '2021-12-15T00:00:00.000',\n",
       "       '2021-12-16T00:00:00.000', '2021-12-17T00:00:00.000',\n",
       "       '2021-12-18T00:00:00.000', '2021-12-19T00:00:00.000',\n",
       "       '2021-12-20T00:00:00.000', '2021-12-21T00:00:00.000',\n",
       "       '2021-12-22T00:00:00.000', '2021-12-23T00:00:00.000',\n",
       "       '2021-12-24T00:00:00.000', '2021-12-25T00:00:00.000',\n",
       "       '2021-12-26T00:00:00.000', '2021-12-27T00:00:00.000',\n",
       "       '2021-12-28T00:00:00.000', '2021-12-29T00:00:00.000',\n",
       "       '2021-12-30T00:00:00.000', '2021-12-31T00:00:00.000'], dtype=object)"
      ]
     },
     "execution_count": 31,
     "metadata": {},
     "output_type": "execute_result"
    }
   ],
   "source": [
    "results_df.CMPLNT_FR_DT.unique()"
   ]
  },
  {
   "cell_type": "code",
   "execution_count": 11,
   "id": "557ecdf5",
   "metadata": {
    "ExecuteTime": {
     "end_time": "2023-02-18T19:05:59.410935Z",
     "start_time": "2023-02-18T19:05:57.670290Z"
    }
   },
   "outputs": [],
   "source": [
    "complaint_recent = pd.read_csv('NYPD_Complaint_Data_Current__Year_To_Date_.csv', \n",
    "                               usecols = [\"CMPLNT_FR_DT\", \"OFNS_DESC\", \"LAW_CAT_CD\", \"BORO_NM\", \"X_COORD_CD\", \"Y_COORD_CD\", \n",
    "                                          \"SUSP_AGE_GROUP\", \"SUSP_RACE\", \"SUSP_SEX\", \n",
    "                                          \"Latitude\", \"Longitude\", \"Lat_Lon\",\n",
    "                                          \"VIC_AGE_GROUP\", \"VIC_RACE\", \"VIC_SEX\"])"
   ]
  },
  {
   "cell_type": "code",
   "execution_count": 35,
   "id": "331a073f",
   "metadata": {
    "ExecuteTime": {
     "end_time": "2023-02-18T19:14:06.234920Z",
     "start_time": "2023-02-18T19:14:06.193475Z"
    }
   },
   "outputs": [
    {
     "data": {
      "text/plain": [
       "array(['06/20/2022', '06/27/2022', '07/08/2022', '07/15/2022',\n",
       "       '06/06/2020', '12/16/2021', '08/13/2013', '01/01/2016',\n",
       "       '01/01/1992', '12/31/2021', '10/01/2021', '10/21/2021',\n",
       "       '12/01/2021', '10/15/2021', '12/26/2021', '06/23/2020',\n",
       "       '12/09/2021', '01/31/2021', '12/15/2021', '10/04/2021',\n",
       "       '09/01/2018', '10/01/2019', '10/07/2021', '02/01/2017',\n",
       "       '12/27/2021', '01/02/2021', '11/30/2021', '12/20/2021',\n",
       "       '12/02/2020', '11/01/2021', '06/03/2021', '07/09/2021',\n",
       "       '07/15/2019', '04/01/2019', '07/10/2021', '10/03/2020',\n",
       "       '12/19/2021', '12/22/2021', '04/01/2015', '08/14/2021',\n",
       "       '12/05/2021', '08/03/2021', '06/16/2021', '02/01/2020',\n",
       "       '10/03/2021', '01/01/2022', '10/01/2018', '12/30/2021',\n",
       "       '12/01/2019', '05/02/2020'], dtype=object)"
      ]
     },
     "execution_count": 35,
     "metadata": {},
     "output_type": "execute_result"
    }
   ],
   "source": [
    "complaint_recent.CMPLNT_FR_DT.unique()[:50]"
   ]
  },
  {
   "cell_type": "code",
   "execution_count": null,
   "id": "90a013d6",
   "metadata": {
    "ExecuteTime": {
     "end_time": "2023-02-18T19:18:35.799254Z",
     "start_time": "2023-02-18T19:18:35.783718Z"
    }
   },
   "outputs": [],
   "source": []
  },
  {
   "cell_type": "code",
   "execution_count": 43,
   "id": "dbe47c2b",
   "metadata": {
    "ExecuteTime": {
     "end_time": "2023-02-18T19:20:01.769044Z",
     "start_time": "2023-02-18T19:20:01.663075Z"
    }
   },
   "outputs": [],
   "source": [
    "complaint_recent['CMPLNT_FR_DT'] = pd.to_datetime(complaint_recent['CMPLNT_FR_DT'], format='%m/%d/%Y', errors='coerce')"
   ]
  },
  {
   "cell_type": "code",
   "execution_count": 45,
   "id": "a2427b59",
   "metadata": {
    "ExecuteTime": {
     "end_time": "2023-02-18T19:22:10.094457Z",
     "start_time": "2023-02-18T19:22:10.006160Z"
    }
   },
   "outputs": [],
   "source": [
    "# filter the 2022 dataset\n",
    "complaint_recent = complaint_recent[complaint_recent['CMPLNT_FR_DT'].dt.year == 2022]"
   ]
  },
  {
   "cell_type": "code",
   "execution_count": 47,
   "id": "d7a36e33",
   "metadata": {
    "ExecuteTime": {
     "end_time": "2023-02-18T19:24:36.027709Z",
     "start_time": "2023-02-18T19:24:35.829044Z"
    }
   },
   "outputs": [
    {
     "data": {
      "text/plain": [
       "BORO_NM           0\n",
       "CMPLNT_FR_DT      0\n",
       "LAW_CAT_CD        0\n",
       "OFNS_DESC         0\n",
       "SUSP_AGE_GROUP    0\n",
       "SUSP_RACE         0\n",
       "SUSP_SEX          0\n",
       "VIC_AGE_GROUP     0\n",
       "VIC_RACE          0\n",
       "VIC_SEX           0\n",
       "X_COORD_CD        9\n",
       "Y_COORD_CD        9\n",
       "Latitude          9\n",
       "Longitude         9\n",
       "Lat_Lon           9\n",
       "dtype: int64"
      ]
     },
     "execution_count": 47,
     "metadata": {},
     "output_type": "execute_result"
    }
   ],
   "source": [
    "complaint_recent.isnull().sum()\n"
   ]
  },
  {
   "cell_type": "code",
   "execution_count": 48,
   "id": "8191c860",
   "metadata": {
    "ExecuteTime": {
     "end_time": "2023-02-18T19:25:22.116536Z",
     "start_time": "2023-02-18T19:25:21.835933Z"
    }
   },
   "outputs": [],
   "source": [
    "# drop the na values\n",
    "complaint_recent.dropna(inplace = True)"
   ]
  },
  {
   "cell_type": "code",
   "execution_count": 50,
   "id": "8cd73906",
   "metadata": {
    "ExecuteTime": {
     "end_time": "2023-02-18T19:29:44.820413Z",
     "start_time": "2023-02-18T19:29:44.770298Z"
    }
   },
   "outputs": [
    {
     "data": {
      "text/plain": [
       "(520586, 15)"
      ]
     },
     "execution_count": 50,
     "metadata": {},
     "output_type": "execute_result"
    }
   ],
   "source": [
    "complaint_recent.shape"
   ]
  },
  {
   "cell_type": "code",
   "execution_count": 52,
   "id": "8f5dcb38",
   "metadata": {
    "ExecuteTime": {
     "end_time": "2023-02-18T19:30:35.998542Z",
     "start_time": "2023-02-18T19:30:35.966964Z"
    }
   },
   "outputs": [
    {
     "data": {
      "text/html": [
       "<div>\n",
       "<style scoped>\n",
       "    .dataframe tbody tr th:only-of-type {\n",
       "        vertical-align: middle;\n",
       "    }\n",
       "\n",
       "    .dataframe tbody tr th {\n",
       "        vertical-align: top;\n",
       "    }\n",
       "\n",
       "    .dataframe thead th {\n",
       "        text-align: right;\n",
       "    }\n",
       "</style>\n",
       "<table border=\"1\" class=\"dataframe\">\n",
       "  <thead>\n",
       "    <tr style=\"text-align: right;\">\n",
       "      <th></th>\n",
       "      <th>BORO_NM</th>\n",
       "      <th>CMPLNT_FR_DT</th>\n",
       "      <th>LAW_CAT_CD</th>\n",
       "      <th>OFNS_DESC</th>\n",
       "      <th>SUSP_AGE_GROUP</th>\n",
       "      <th>SUSP_RACE</th>\n",
       "      <th>SUSP_SEX</th>\n",
       "      <th>VIC_AGE_GROUP</th>\n",
       "      <th>VIC_RACE</th>\n",
       "      <th>VIC_SEX</th>\n",
       "      <th>X_COORD_CD</th>\n",
       "      <th>Y_COORD_CD</th>\n",
       "      <th>Latitude</th>\n",
       "      <th>Longitude</th>\n",
       "      <th>Lat_Lon</th>\n",
       "    </tr>\n",
       "  </thead>\n",
       "  <tbody>\n",
       "    <tr>\n",
       "      <th>0</th>\n",
       "      <td>BRONX</td>\n",
       "      <td>2022-06-20</td>\n",
       "      <td>FELONY</td>\n",
       "      <td>ROBBERY</td>\n",
       "      <td>UNKNOWN</td>\n",
       "      <td>UNKNOWN</td>\n",
       "      <td>U</td>\n",
       "      <td>25-44</td>\n",
       "      <td>BLACK</td>\n",
       "      <td>F</td>\n",
       "      <td>1007951.0</td>\n",
       "      <td>241445.0</td>\n",
       "      <td>40.829355</td>\n",
       "      <td>-73.914355</td>\n",
       "      <td>(40.829355, -73.914355)</td>\n",
       "    </tr>\n",
       "    <tr>\n",
       "      <th>1</th>\n",
       "      <td>BRONX</td>\n",
       "      <td>2022-06-27</td>\n",
       "      <td>FELONY</td>\n",
       "      <td>ROBBERY</td>\n",
       "      <td>UNKNOWN</td>\n",
       "      <td>BLACK</td>\n",
       "      <td>M</td>\n",
       "      <td>45-64</td>\n",
       "      <td>WHITE</td>\n",
       "      <td>M</td>\n",
       "      <td>1026285.0</td>\n",
       "      <td>246465.0</td>\n",
       "      <td>40.843067</td>\n",
       "      <td>-73.848075</td>\n",
       "      <td>(40.843067, -73.848075)</td>\n",
       "    </tr>\n",
       "    <tr>\n",
       "      <th>2</th>\n",
       "      <td>BRONX</td>\n",
       "      <td>2022-07-08</td>\n",
       "      <td>FELONY</td>\n",
       "      <td>FORGERY</td>\n",
       "      <td>25-44</td>\n",
       "      <td>BLACK</td>\n",
       "      <td>M</td>\n",
       "      <td>UNKNOWN</td>\n",
       "      <td>UNKNOWN</td>\n",
       "      <td>E</td>\n",
       "      <td>1008526.0</td>\n",
       "      <td>244666.0</td>\n",
       "      <td>40.838194</td>\n",
       "      <td>-73.912268</td>\n",
       "      <td>(40.83819352, -73.91226789)</td>\n",
       "    </tr>\n",
       "    <tr>\n",
       "      <th>3</th>\n",
       "      <td>BRONX</td>\n",
       "      <td>2022-07-15</td>\n",
       "      <td>FELONY</td>\n",
       "      <td>MURDER &amp; NON-NEGL. MANSLAUGHTER</td>\n",
       "      <td>25-44</td>\n",
       "      <td>BLACK</td>\n",
       "      <td>M</td>\n",
       "      <td>25-44</td>\n",
       "      <td>BLACK</td>\n",
       "      <td>M</td>\n",
       "      <td>1007600.0</td>\n",
       "      <td>240213.0</td>\n",
       "      <td>40.825974</td>\n",
       "      <td>-73.915630</td>\n",
       "      <td>(40.82597381, -73.9156299)</td>\n",
       "    </tr>\n",
       "    <tr>\n",
       "      <th>51</th>\n",
       "      <td>MANHATTAN</td>\n",
       "      <td>2022-01-01</td>\n",
       "      <td>MISDEMEANOR</td>\n",
       "      <td>PETIT LARCENY</td>\n",
       "      <td>25-44</td>\n",
       "      <td>BLACK</td>\n",
       "      <td>M</td>\n",
       "      <td>25-44</td>\n",
       "      <td>WHITE HISPANIC</td>\n",
       "      <td>M</td>\n",
       "      <td>984685.0</td>\n",
       "      <td>209908.0</td>\n",
       "      <td>40.742827</td>\n",
       "      <td>-73.998428</td>\n",
       "      <td>(40.742827, -73.998428)</td>\n",
       "    </tr>\n",
       "    <tr>\n",
       "      <th>97</th>\n",
       "      <td>BROOKLYN</td>\n",
       "      <td>2022-01-01</td>\n",
       "      <td>MISDEMEANOR</td>\n",
       "      <td>PETIT LARCENY</td>\n",
       "      <td>UNKNOWN</td>\n",
       "      <td>UNKNOWN</td>\n",
       "      <td>U</td>\n",
       "      <td>25-44</td>\n",
       "      <td>BLACK</td>\n",
       "      <td>F</td>\n",
       "      <td>994524.0</td>\n",
       "      <td>175697.0</td>\n",
       "      <td>40.648921</td>\n",
       "      <td>-73.962975</td>\n",
       "      <td>(40.648921, -73.962975)</td>\n",
       "    </tr>\n",
       "    <tr>\n",
       "      <th>134</th>\n",
       "      <td>MANHATTAN</td>\n",
       "      <td>2022-01-01</td>\n",
       "      <td>FELONY</td>\n",
       "      <td>CRIMINAL MISCHIEF &amp; RELATED OF</td>\n",
       "      <td>UNKNOWN</td>\n",
       "      <td>WHITE</td>\n",
       "      <td>M</td>\n",
       "      <td>45-64</td>\n",
       "      <td>WHITE</td>\n",
       "      <td>M</td>\n",
       "      <td>983316.0</td>\n",
       "      <td>202389.0</td>\n",
       "      <td>40.722189</td>\n",
       "      <td>-74.003369</td>\n",
       "      <td>(40.722189, -74.003369)</td>\n",
       "    </tr>\n",
       "    <tr>\n",
       "      <th>142</th>\n",
       "      <td>STATEN ISLAND</td>\n",
       "      <td>2022-01-01</td>\n",
       "      <td>VIOLATION</td>\n",
       "      <td>HARRASSMENT 2</td>\n",
       "      <td>25-44</td>\n",
       "      <td>WHITE</td>\n",
       "      <td>M</td>\n",
       "      <td>25-44</td>\n",
       "      <td>BLACK HISPANIC</td>\n",
       "      <td>F</td>\n",
       "      <td>932290.0</td>\n",
       "      <td>136346.0</td>\n",
       "      <td>40.540762</td>\n",
       "      <td>-74.186943</td>\n",
       "      <td>(40.540762, -74.186943)</td>\n",
       "    </tr>\n",
       "    <tr>\n",
       "      <th>146</th>\n",
       "      <td>BROOKLYN</td>\n",
       "      <td>2022-01-01</td>\n",
       "      <td>FELONY</td>\n",
       "      <td>FELONY ASSAULT</td>\n",
       "      <td>25-44</td>\n",
       "      <td>BLACK</td>\n",
       "      <td>M</td>\n",
       "      <td>25-44</td>\n",
       "      <td>ASIAN / PACIFIC ISLANDER</td>\n",
       "      <td>M</td>\n",
       "      <td>987295.0</td>\n",
       "      <td>190704.0</td>\n",
       "      <td>40.690115</td>\n",
       "      <td>-73.989019</td>\n",
       "      <td>(40.690115, -73.989019)</td>\n",
       "    </tr>\n",
       "    <tr>\n",
       "      <th>154</th>\n",
       "      <td>STATEN ISLAND</td>\n",
       "      <td>2022-01-01</td>\n",
       "      <td>MISDEMEANOR</td>\n",
       "      <td>PETIT LARCENY</td>\n",
       "      <td>18-24</td>\n",
       "      <td>BLACK</td>\n",
       "      <td>M</td>\n",
       "      <td>UNKNOWN</td>\n",
       "      <td>UNKNOWN</td>\n",
       "      <td>D</td>\n",
       "      <td>937602.0</td>\n",
       "      <td>166019.0</td>\n",
       "      <td>40.622239</td>\n",
       "      <td>-74.168037</td>\n",
       "      <td>(40.622239, -74.168037)</td>\n",
       "    </tr>\n",
       "  </tbody>\n",
       "</table>\n",
       "</div>"
      ],
      "text/plain": [
       "           BORO_NM CMPLNT_FR_DT   LAW_CAT_CD                        OFNS_DESC  \\\n",
       "0            BRONX   2022-06-20       FELONY                          ROBBERY   \n",
       "1            BRONX   2022-06-27       FELONY                          ROBBERY   \n",
       "2            BRONX   2022-07-08       FELONY                          FORGERY   \n",
       "3            BRONX   2022-07-15       FELONY  MURDER & NON-NEGL. MANSLAUGHTER   \n",
       "51       MANHATTAN   2022-01-01  MISDEMEANOR                    PETIT LARCENY   \n",
       "97        BROOKLYN   2022-01-01  MISDEMEANOR                    PETIT LARCENY   \n",
       "134      MANHATTAN   2022-01-01       FELONY   CRIMINAL MISCHIEF & RELATED OF   \n",
       "142  STATEN ISLAND   2022-01-01    VIOLATION                    HARRASSMENT 2   \n",
       "146       BROOKLYN   2022-01-01       FELONY                   FELONY ASSAULT   \n",
       "154  STATEN ISLAND   2022-01-01  MISDEMEANOR                    PETIT LARCENY   \n",
       "\n",
       "    SUSP_AGE_GROUP SUSP_RACE SUSP_SEX VIC_AGE_GROUP                  VIC_RACE  \\\n",
       "0          UNKNOWN   UNKNOWN        U         25-44                     BLACK   \n",
       "1          UNKNOWN     BLACK        M         45-64                     WHITE   \n",
       "2            25-44     BLACK        M       UNKNOWN                   UNKNOWN   \n",
       "3            25-44     BLACK        M         25-44                     BLACK   \n",
       "51           25-44     BLACK        M         25-44            WHITE HISPANIC   \n",
       "97         UNKNOWN   UNKNOWN        U         25-44                     BLACK   \n",
       "134        UNKNOWN     WHITE        M         45-64                     WHITE   \n",
       "142          25-44     WHITE        M         25-44            BLACK HISPANIC   \n",
       "146          25-44     BLACK        M         25-44  ASIAN / PACIFIC ISLANDER   \n",
       "154          18-24     BLACK        M       UNKNOWN                   UNKNOWN   \n",
       "\n",
       "    VIC_SEX  X_COORD_CD  Y_COORD_CD   Latitude  Longitude  \\\n",
       "0         F   1007951.0    241445.0  40.829355 -73.914355   \n",
       "1         M   1026285.0    246465.0  40.843067 -73.848075   \n",
       "2         E   1008526.0    244666.0  40.838194 -73.912268   \n",
       "3         M   1007600.0    240213.0  40.825974 -73.915630   \n",
       "51        M    984685.0    209908.0  40.742827 -73.998428   \n",
       "97        F    994524.0    175697.0  40.648921 -73.962975   \n",
       "134       M    983316.0    202389.0  40.722189 -74.003369   \n",
       "142       F    932290.0    136346.0  40.540762 -74.186943   \n",
       "146       M    987295.0    190704.0  40.690115 -73.989019   \n",
       "154       D    937602.0    166019.0  40.622239 -74.168037   \n",
       "\n",
       "                         Lat_Lon  \n",
       "0        (40.829355, -73.914355)  \n",
       "1        (40.843067, -73.848075)  \n",
       "2    (40.83819352, -73.91226789)  \n",
       "3     (40.82597381, -73.9156299)  \n",
       "51       (40.742827, -73.998428)  \n",
       "97       (40.648921, -73.962975)  \n",
       "134      (40.722189, -74.003369)  \n",
       "142      (40.540762, -74.186943)  \n",
       "146      (40.690115, -73.989019)  \n",
       "154      (40.622239, -74.168037)  "
      ]
     },
     "execution_count": 52,
     "metadata": {},
     "output_type": "execute_result"
    }
   ],
   "source": [
    "complaint_recent.head(10)"
   ]
  }
 ],
 "metadata": {
  "celltoolbar": "无",
  "kernelspec": {
   "display_name": "Python 3 (ipykernel)",
   "language": "python",
   "name": "python3"
  },
  "language_info": {
   "codemirror_mode": {
    "name": "ipython",
    "version": 3
   },
   "file_extension": ".py",
   "mimetype": "text/x-python",
   "name": "python",
   "nbconvert_exporter": "python",
   "pygments_lexer": "ipython3",
   "version": "3.7.15"
  },
  "varInspector": {
   "cols": {
    "lenName": 16,
    "lenType": 16,
    "lenVar": 40
   },
   "kernels_config": {
    "python": {
     "delete_cmd_postfix": "",
     "delete_cmd_prefix": "del ",
     "library": "var_list.py",
     "varRefreshCmd": "print(var_dic_list())"
    },
    "r": {
     "delete_cmd_postfix": ") ",
     "delete_cmd_prefix": "rm(",
     "library": "var_list.r",
     "varRefreshCmd": "cat(var_dic_list()) "
    }
   },
   "types_to_exclude": [
    "module",
    "function",
    "builtin_function_or_method",
    "instance",
    "_Feature"
   ],
   "window_display": false
  }
 },
 "nbformat": 4,
 "nbformat_minor": 5
}
