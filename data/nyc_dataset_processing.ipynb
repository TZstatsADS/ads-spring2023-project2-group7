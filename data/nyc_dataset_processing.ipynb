{
 "cells": [
  {
   "cell_type": "code",
   "execution_count": 1,
   "id": "d8d845cd",
   "metadata": {
    "ExecuteTime": {
     "end_time": "2023-02-18T18:58:20.954333Z",
     "start_time": "2023-02-18T18:58:19.787051Z"
    }
   },
   "outputs": [],
   "source": [
    "import requests\n",
    "import pandas as pd\n",
    "from sodapy import Socrata"
   ]
  },
  {
   "cell_type": "code",
   "execution_count": 30,
   "id": "0876d44f",
   "metadata": {
    "ExecuteTime": {
     "end_time": "2023-02-18T19:11:53.136661Z",
     "start_time": "2023-02-18T19:11:51.909386Z"
    }
   },
   "outputs": [],
   "source": [
    "# Unauthenticated client only works with public data sets. Note 'None'\n",
    "# in place of application token, and no username or password:\n",
    "# client = Socrata(\"data.cityofnewyork.us\", None)\n",
    "\n",
    "MyAppToken = \n",
    "username = \n",
    "password = \n",
    "\n",
    "# Example authenticated client (needed for non-public datasets):\n",
    "client = Socrata(\"data.cityofnewyork.us\",\n",
    "                 MyAppToken,\n",
    "                 username,\n",
    "                 password)\n",
    "\n",
    "# First 2000 results, returned as JSON from API / converted to Python list of\n",
    "# dictionaries by sodapy.\n",
    "results = client.get(\"qgea-i56i\", \n",
    "                     select = \"CMPLNT_FR_DT, OFNS_DESC, LAW_CAT_CD, BORO_NM, \\\n",
    "                     SUSP_AGE_GROUP, SUSP_RACE, SUSP_SEX, \\\n",
    "                     Lat_Lon, \\\n",
    "                     VIC_AGE_GROUP, VIC_RACE, VIC_SEX\",\n",
    "                     where = \"CMPLNT_FR_DT BETWEEN '2021-12-02T00:00:00.000' and '2022-08-30T00:00:00.000'\",\n",
    "                     limit = 1000)\n",
    "\n",
    "# Convert to pandas DataFrame\n",
    "results_df = pd.DataFrame.from_records(results)"
   ]
  },
  {
   "cell_type": "code",
   "execution_count": 31,
   "id": "a3171f5a",
   "metadata": {
    "ExecuteTime": {
     "end_time": "2023-02-18T19:11:53.946466Z",
     "start_time": "2023-02-18T19:11:53.932902Z"
    }
   },
   "outputs": [
    {
     "data": {
      "text/plain": [
       "array(['2021-12-02T00:00:00.000', '2021-12-03T00:00:00.000',\n",
       "       '2021-12-04T00:00:00.000', '2021-12-05T00:00:00.000',\n",
       "       '2021-12-06T00:00:00.000', '2021-12-07T00:00:00.000',\n",
       "       '2021-12-08T00:00:00.000', '2021-12-09T00:00:00.000',\n",
       "       '2021-12-10T00:00:00.000', '2021-12-11T00:00:00.000',\n",
       "       '2021-12-12T00:00:00.000', '2021-12-13T00:00:00.000',\n",
       "       '2021-12-14T00:00:00.000', '2021-12-15T00:00:00.000',\n",
       "       '2021-12-16T00:00:00.000', '2021-12-17T00:00:00.000',\n",
       "       '2021-12-18T00:00:00.000', '2021-12-19T00:00:00.000',\n",
       "       '2021-12-20T00:00:00.000', '2021-12-21T00:00:00.000',\n",
       "       '2021-12-22T00:00:00.000', '2021-12-23T00:00:00.000',\n",
       "       '2021-12-24T00:00:00.000', '2021-12-25T00:00:00.000',\n",
       "       '2021-12-26T00:00:00.000', '2021-12-27T00:00:00.000',\n",
       "       '2021-12-28T00:00:00.000', '2021-12-29T00:00:00.000',\n",
       "       '2021-12-30T00:00:00.000', '2021-12-31T00:00:00.000'], dtype=object)"
      ]
     },
     "execution_count": 31,
     "metadata": {},
     "output_type": "execute_result"
    }
   ],
   "source": [
    "results_df.CMPLNT_FR_DT.unique()"
   ]
  },
  {
   "cell_type": "code",
   "execution_count": 11,
   "id": "557ecdf5",
   "metadata": {
    "ExecuteTime": {
     "end_time": "2023-02-18T19:05:59.410935Z",
     "start_time": "2023-02-18T19:05:57.670290Z"
    }
   },
   "outputs": [],
   "source": [
    "complaint_recent = pd.read_csv('NYPD_Complaint_Data_Current__Year_To_Date_.csv', \n",
    "                               usecols = [\"CMPLNT_FR_DT\", \"OFNS_DESC\", \"LAW_CAT_CD\", \"BORO_NM\", \"X_COORD_CD\", \"Y_COORD_CD\", \n",
    "                                          \"SUSP_AGE_GROUP\", \"SUSP_RACE\", \"SUSP_SEX\", \n",
    "                                          \"Latitude\", \"Longitude\", \"Lat_Lon\",\n",
    "                                          \"VIC_AGE_GROUP\", \"VIC_RACE\", \"VIC_SEX\"])"
   ]
  },
  {
   "cell_type": "code",
   "execution_count": 35,
   "id": "331a073f",
   "metadata": {
    "ExecuteTime": {
     "end_time": "2023-02-18T19:14:06.234920Z",
     "start_time": "2023-02-18T19:14:06.193475Z"
    }
   },
   "outputs": [
    {
     "data": {
      "text/plain": [
       "array(['06/20/2022', '06/27/2022', '07/08/2022', '07/15/2022',\n",
       "       '06/06/2020', '12/16/2021', '08/13/2013', '01/01/2016',\n",
       "       '01/01/1992', '12/31/2021', '10/01/2021', '10/21/2021',\n",
       "       '12/01/2021', '10/15/2021', '12/26/2021', '06/23/2020',\n",
       "       '12/09/2021', '01/31/2021', '12/15/2021', '10/04/2021',\n",
       "       '09/01/2018', '10/01/2019', '10/07/2021', '02/01/2017',\n",
       "       '12/27/2021', '01/02/2021', '11/30/2021', '12/20/2021',\n",
       "       '12/02/2020', '11/01/2021', '06/03/2021', '07/09/2021',\n",
       "       '07/15/2019', '04/01/2019', '07/10/2021', '10/03/2020',\n",
       "       '12/19/2021', '12/22/2021', '04/01/2015', '08/14/2021',\n",
       "       '12/05/2021', '08/03/2021', '06/16/2021', '02/01/2020',\n",
       "       '10/03/2021', '01/01/2022', '10/01/2018', '12/30/2021',\n",
       "       '12/01/2019', '05/02/2020'], dtype=object)"
      ]
     },
     "execution_count": 35,
     "metadata": {},
     "output_type": "execute_result"
    }
   ],
   "source": [
    "complaint_recent.CMPLNT_FR_DT.unique()[:50]"
   ]
  },
  {
   "cell_type": "code",
   "execution_count": null,
   "id": "90a013d6",
   "metadata": {
    "ExecuteTime": {
     "end_time": "2023-02-18T19:18:35.799254Z",
     "start_time": "2023-02-18T19:18:35.783718Z"
    }
   },
   "outputs": [],
   "source": []
  },
  {
   "cell_type": "code",
   "execution_count": 43,
   "id": "dbe47c2b",
   "metadata": {
    "ExecuteTime": {
     "end_time": "2023-02-18T19:20:01.769044Z",
     "start_time": "2023-02-18T19:20:01.663075Z"
    }
   },
   "outputs": [],
   "source": [
    "complaint_recent['CMPLNT_FR_DT'] = pd.to_datetime(complaint_recent['CMPLNT_FR_DT'], format='%m/%d/%Y', errors='coerce')"
   ]
  },
  {
   "cell_type": "code",
   "execution_count": 45,
   "id": "a2427b59",
   "metadata": {
    "ExecuteTime": {
     "end_time": "2023-02-18T19:22:10.094457Z",
     "start_time": "2023-02-18T19:22:10.006160Z"
    }
   },
   "outputs": [],
   "source": [
    "# filter the 2022 dataset\n",
    "complaint_recent = complaint_recent[complaint_recent['CMPLNT_FR_DT'].dt.year == 2022]"
   ]
  },
  {
   "cell_type": "code",
   "execution_count": 47,
   "id": "d7a36e33",
   "metadata": {
    "ExecuteTime": {
     "end_time": "2023-02-18T19:24:36.027709Z",
     "start_time": "2023-02-18T19:24:35.829044Z"
    }
   },
   "outputs": [
    {
     "data": {
      "text/plain": [
       "BORO_NM           0\n",
       "CMPLNT_FR_DT      0\n",
       "LAW_CAT_CD        0\n",
       "OFNS_DESC         0\n",
       "SUSP_AGE_GROUP    0\n",
       "SUSP_RACE         0\n",
       "SUSP_SEX          0\n",
       "VIC_AGE_GROUP     0\n",
       "VIC_RACE          0\n",
       "VIC_SEX           0\n",
       "X_COORD_CD        9\n",
       "Y_COORD_CD        9\n",
       "Latitude          9\n",
       "Longitude         9\n",
       "Lat_Lon           9\n",
       "dtype: int64"
      ]
     },
     "execution_count": 47,
     "metadata": {},
     "output_type": "execute_result"
    }
   ],
   "source": [
    "complaint_recent.isnull().sum()\n"
   ]
  },
  {
   "cell_type": "code",
   "execution_count": 48,
   "id": "8191c860",
   "metadata": {
    "ExecuteTime": {
     "end_time": "2023-02-18T19:25:22.116536Z",
     "start_time": "2023-02-18T19:25:21.835933Z"
    }
   },
   "outputs": [],
   "source": [
    "# drop the na values\n",
    "complaint_recent.dropna(inplace = True)"
   ]
  },
  {
   "cell_type": "code",
   "execution_count": 50,
   "id": "8cd73906",
   "metadata": {
    "ExecuteTime": {
     "end_time": "2023-02-18T19:29:44.820413Z",
     "start_time": "2023-02-18T19:29:44.770298Z"
    }
   },
   "outputs": [
    {
     "data": {
      "text/plain": [
       "(520586, 15)"
      ]
     },
     "execution_count": 50,
     "metadata": {},
     "output_type": "execute_result"
    }
   ],
   "source": [
    "complaint_recent.shape"
   ]
  },
  {
   "cell_type": "code",
   "execution_count": null,
   "id": "35c5f9ea",
   "metadata": {},
   "outputs": [],
   "source": [
    "complaint_recent.to_csv('2022_complaint_dataset', index = False)"
   ]
  }
 ],
 "metadata": {
  "celltoolbar": "无",
  "kernelspec": {
   "display_name": "base",
   "language": "python",
   "name": "python3"
  },
  "language_info": {
   "codemirror_mode": {
    "name": "ipython",
    "version": 3
   },
   "file_extension": ".py",
   "mimetype": "text/x-python",
   "name": "python",
   "nbconvert_exporter": "python",
   "pygments_lexer": "ipython3",
   "version": "3.7.15"
  },
  "varInspector": {
   "cols": {
    "lenName": 16,
    "lenType": 16,
    "lenVar": 40
   },
   "kernels_config": {
    "python": {
     "delete_cmd_postfix": "",
     "delete_cmd_prefix": "del ",
     "library": "var_list.py",
     "varRefreshCmd": "print(var_dic_list())"
    },
    "r": {
     "delete_cmd_postfix": ") ",
     "delete_cmd_prefix": "rm(",
     "library": "var_list.r",
     "varRefreshCmd": "cat(var_dic_list()) "
    }
   },
   "types_to_exclude": [
    "module",
    "function",
    "builtin_function_or_method",
    "instance",
    "_Feature"
   ],
   "window_display": false
  },
  "vscode": {
   "interpreter": {
    "hash": "352cae6eeddf3f5393d0ef5a0c6d74b3e57e2062fbb3264b6420697fb5b5df1a"
   }
  }
 },
 "nbformat": 4,
 "nbformat_minor": 5
}
